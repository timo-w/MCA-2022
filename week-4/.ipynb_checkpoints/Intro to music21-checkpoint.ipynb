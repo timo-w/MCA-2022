{
 "cells": [
  {
   "cell_type": "markdown",
   "metadata": {},
   "source": [
    "# Welcome to music21!\n",
    "\n",
    "music21 is a powerful application developed by Michael Cuthbert at MIT for analyzing music.\n",
    "\n",
    "## Starting music21\n",
    "\n",
    "music21 runs on Python, which is a programming framework. In order to start music21, you need to tell Python to load it. In order to do that, you will need to **type** (don't copy and paste) the following code into the box below:\n",
    "\n",
    "    from music21 import *\n",
    "    \n",
    "To execute this command, hit Shift+Enter (Windows) or Ctrl+Enter (Mac)."
   ]
  },
  {
   "cell_type": "code",
   "execution_count": 1,
   "metadata": {},
   "outputs": [],
   "source": [
    "from music21 import *"
   ]
  },
  {
   "cell_type": "markdown",
   "metadata": {},
   "source": [
    "If you received an error mesage, you will need to double-check that you have entered your code properly. You can just edit your code and then execute your command again.\n",
    "\n",
    "Otherwise, if you did nothing changed, you have successfully loaded the music21 library into Python. This will allow you to start running your music analyses!"
   ]
  },
  {
   "cell_type": "markdown",
   "metadata": {},
   "source": [
    "## Import your file\n",
    "Now that you have music21 running, you will want to import your music file so that you can start analyzing it. To do this, we will need to follow a couple of steps.\n",
    "\n",
    "First, we need to tell Python where to go to get the file. To do this, we will declare a variable called \"filePath\" and set its value to the location of your musicXML file. Since the path is a string, or series of alpha-numeric characters, you need to put the path in quotes. So, execute the following code:\n",
    "\n",
    "    filePath = \"[enter your file path here]\""
   ]
  },
  {
   "cell_type": "code",
   "execution_count": 6,
   "metadata": {},
   "outputs": [],
   "source": [
    "filePath = \"beethoven-quartet.musicxml\""
   ]
  },
  {
   "cell_type": "markdown",
   "metadata": {},
   "source": [
    "It is now time to tell Python to import your file. This is actually a complicated process in which python must import and structure all of the voices, bars, notes, etc. in a way that it can understand. Thankfully, music21 has a converter command that can do this for you. This time, instead of executing just one command, we are going to tell python to run two commands at once. Each command will be separated by a line break, created by pressing enter. Execute the following (pressing the Shift+Enter or Ctrl+Enter **after** typing **both** lines):\n",
    "\n",
    "    p = converter.parse(filePath)\n",
    "    print(p)\n",
    "\n",
    "If you get an error, double check that you have entered your code correctly. "
   ]
  },
  {
   "cell_type": "code",
   "execution_count": 7,
   "metadata": {},
   "outputs": [
    {
     "ename": "MusicXMLImportException",
     "evalue": "Cannot parse MusicXML files not in score-partwise. Root tag was 'feature_vector_file'",
     "output_type": "error",
     "traceback": [
      "\u001b[1;31m---------------------------------------------------------------------------\u001b[0m",
      "\u001b[1;31mMusicXMLImportException\u001b[0m                   Traceback (most recent call last)",
      "\u001b[1;32m<ipython-input-7-dadf3697ef3e>\u001b[0m in \u001b[0;36m<module>\u001b[1;34m\u001b[0m\n\u001b[1;32m----> 1\u001b[1;33m \u001b[0mp\u001b[0m \u001b[1;33m=\u001b[0m \u001b[0mconverter\u001b[0m\u001b[1;33m.\u001b[0m\u001b[0mparse\u001b[0m\u001b[1;33m(\u001b[0m\u001b[0mfilePath\u001b[0m\u001b[1;33m)\u001b[0m\u001b[1;33m\u001b[0m\u001b[1;33m\u001b[0m\u001b[0m\n\u001b[0m",
      "\u001b[1;32mC:\\ProgramData\\Anaconda3\\lib\\site-packages\\music21\\converter\\__init__.py\u001b[0m in \u001b[0;36mparse\u001b[1;34m(value, forceSource, number, format, **keywords)\u001b[0m\n\u001b[0;32m   1295\u001b[0m     elif (not isinstance(value, bytes)\n\u001b[0;32m   1296\u001b[0m           and _osCanLoad(valueStr)):\n\u001b[1;32m-> 1297\u001b[1;33m         return parseFile(valueStr, number=number, format=format,\n\u001b[0m\u001b[0;32m   1298\u001b[0m                          forceSource=forceSource, **keywords)\n\u001b[0;32m   1299\u001b[0m     elif (not isinstance(value, bytes)\n",
      "\u001b[1;32mC:\\ProgramData\\Anaconda3\\lib\\site-packages\\music21\\converter\\__init__.py\u001b[0m in \u001b[0;36mparseFile\u001b[1;34m(fp, number, format, forceSource, **keywords)\u001b[0m\n\u001b[0;32m   1149\u001b[0m     \u001b[0mv\u001b[0m \u001b[1;33m=\u001b[0m \u001b[0mConverter\u001b[0m\u001b[1;33m(\u001b[0m\u001b[1;33m)\u001b[0m\u001b[1;33m\u001b[0m\u001b[1;33m\u001b[0m\u001b[0m\n\u001b[0;32m   1150\u001b[0m     \u001b[0mfp\u001b[0m \u001b[1;33m=\u001b[0m \u001b[0mcommon\u001b[0m\u001b[1;33m.\u001b[0m\u001b[0mcleanpath\u001b[0m\u001b[1;33m(\u001b[0m\u001b[0mfp\u001b[0m\u001b[1;33m,\u001b[0m \u001b[0mreturnPathlib\u001b[0m\u001b[1;33m=\u001b[0m\u001b[1;32mTrue\u001b[0m\u001b[1;33m)\u001b[0m\u001b[1;33m\u001b[0m\u001b[1;33m\u001b[0m\u001b[0m\n\u001b[1;32m-> 1151\u001b[1;33m     \u001b[0mv\u001b[0m\u001b[1;33m.\u001b[0m\u001b[0mparseFile\u001b[0m\u001b[1;33m(\u001b[0m\u001b[0mfp\u001b[0m\u001b[1;33m,\u001b[0m \u001b[0mnumber\u001b[0m\u001b[1;33m=\u001b[0m\u001b[0mnumber\u001b[0m\u001b[1;33m,\u001b[0m \u001b[0mformat\u001b[0m\u001b[1;33m=\u001b[0m\u001b[0mformat\u001b[0m\u001b[1;33m,\u001b[0m \u001b[0mforceSource\u001b[0m\u001b[1;33m=\u001b[0m\u001b[0mforceSource\u001b[0m\u001b[1;33m,\u001b[0m \u001b[1;33m**\u001b[0m\u001b[0mkeywords\u001b[0m\u001b[1;33m)\u001b[0m\u001b[1;33m\u001b[0m\u001b[1;33m\u001b[0m\u001b[0m\n\u001b[0m\u001b[0;32m   1152\u001b[0m     \u001b[1;32mif\u001b[0m \u001b[0mt\u001b[0m\u001b[1;33m.\u001b[0m\u001b[0mTYPE_CHECKING\u001b[0m\u001b[1;33m:\u001b[0m\u001b[1;33m\u001b[0m\u001b[1;33m\u001b[0m\u001b[0m\n\u001b[0;32m   1153\u001b[0m         \u001b[1;32massert\u001b[0m \u001b[0misinstance\u001b[0m\u001b[1;33m(\u001b[0m\u001b[0mv\u001b[0m\u001b[1;33m.\u001b[0m\u001b[0mstream\u001b[0m\u001b[1;33m,\u001b[0m \u001b[1;33m(\u001b[0m\u001b[0mstream\u001b[0m\u001b[1;33m.\u001b[0m\u001b[0mScore\u001b[0m\u001b[1;33m,\u001b[0m \u001b[0mstream\u001b[0m\u001b[1;33m.\u001b[0m\u001b[0mPart\u001b[0m\u001b[1;33m,\u001b[0m \u001b[0mstream\u001b[0m\u001b[1;33m.\u001b[0m\u001b[0mOpus\u001b[0m\u001b[1;33m)\u001b[0m\u001b[1;33m)\u001b[0m\u001b[1;33m\u001b[0m\u001b[1;33m\u001b[0m\u001b[0m\n",
      "\u001b[1;32mC:\\ProgramData\\Anaconda3\\lib\\site-packages\\music21\\converter\\__init__.py\u001b[0m in \u001b[0;36mparseFile\u001b[1;34m(self, fp, number, format, forceSource, storePickle, **keywords)\u001b[0m\n\u001b[0;32m    619\u001b[0m         \u001b[1;32melse\u001b[0m\u001b[1;33m:\u001b[0m\u001b[1;33m\u001b[0m\u001b[1;33m\u001b[0m\u001b[0m\n\u001b[0;32m    620\u001b[0m             \u001b[0menvironLocal\u001b[0m\u001b[1;33m.\u001b[0m\u001b[0mprintDebug\u001b[0m\u001b[1;33m(\u001b[0m\u001b[1;34m'Loading original version'\u001b[0m\u001b[1;33m)\u001b[0m\u001b[1;33m\u001b[0m\u001b[1;33m\u001b[0m\u001b[0m\n\u001b[1;32m--> 621\u001b[1;33m             \u001b[0mself\u001b[0m\u001b[1;33m.\u001b[0m\u001b[0mparseFileNoPickle\u001b[0m\u001b[1;33m(\u001b[0m\u001b[0mfp\u001b[0m\u001b[1;33m,\u001b[0m \u001b[0mnumber\u001b[0m\u001b[1;33m,\u001b[0m \u001b[0mformat\u001b[0m\u001b[1;33m,\u001b[0m \u001b[0mforceSource\u001b[0m\u001b[1;33m,\u001b[0m \u001b[1;33m**\u001b[0m\u001b[0mkeywords\u001b[0m\u001b[1;33m)\u001b[0m\u001b[1;33m\u001b[0m\u001b[1;33m\u001b[0m\u001b[0m\n\u001b[0m\u001b[0;32m    622\u001b[0m             \u001b[1;32mif\u001b[0m \u001b[0mwritePickle\u001b[0m \u001b[1;32mis\u001b[0m \u001b[1;32mTrue\u001b[0m \u001b[1;32mand\u001b[0m \u001b[0mfpPickle\u001b[0m \u001b[1;32mis\u001b[0m \u001b[1;32mnot\u001b[0m \u001b[1;32mNone\u001b[0m \u001b[1;32mand\u001b[0m \u001b[0mstorePickle\u001b[0m \u001b[1;32mis\u001b[0m \u001b[1;32mTrue\u001b[0m\u001b[1;33m:\u001b[0m\u001b[1;33m\u001b[0m\u001b[1;33m\u001b[0m\u001b[0m\n\u001b[0;32m    623\u001b[0m                 \u001b[1;31m# save the stream to disk...\u001b[0m\u001b[1;33m\u001b[0m\u001b[1;33m\u001b[0m\u001b[1;33m\u001b[0m\u001b[0m\n",
      "\u001b[1;32mC:\\ProgramData\\Anaconda3\\lib\\site-packages\\music21\\converter\\__init__.py\u001b[0m in \u001b[0;36mparseFileNoPickle\u001b[1;34m(self, fp, number, format, forceSource, **keywords)\u001b[0m\n\u001b[0;32m    541\u001b[0m         \u001b[0mself\u001b[0m\u001b[1;33m.\u001b[0m\u001b[0msubConverter\u001b[0m\u001b[1;33m.\u001b[0m\u001b[0mkeywords\u001b[0m \u001b[1;33m=\u001b[0m \u001b[0mkeywords\u001b[0m\u001b[1;33m\u001b[0m\u001b[1;33m\u001b[0m\u001b[0m\n\u001b[0;32m    542\u001b[0m         \u001b[1;32mtry\u001b[0m\u001b[1;33m:\u001b[0m\u001b[1;33m\u001b[0m\u001b[1;33m\u001b[0m\u001b[0m\n\u001b[1;32m--> 543\u001b[1;33m             self.subConverter.parseFile(\n\u001b[0m\u001b[0;32m    544\u001b[0m                 \u001b[0mfp\u001b[0m\u001b[1;33m,\u001b[0m\u001b[1;33m\u001b[0m\u001b[1;33m\u001b[0m\u001b[0m\n\u001b[0;32m    545\u001b[0m                 \u001b[0mnumber\u001b[0m\u001b[1;33m=\u001b[0m\u001b[0mnumber\u001b[0m\u001b[1;33m,\u001b[0m\u001b[1;33m\u001b[0m\u001b[1;33m\u001b[0m\u001b[0m\n",
      "\u001b[1;32mC:\\ProgramData\\Anaconda3\\lib\\site-packages\\music21\\converter\\subConverters.py\u001b[0m in \u001b[0;36mparseFile\u001b[1;34m(self, filePath, number, **keywords)\u001b[0m\n\u001b[0;32m    945\u001b[0m             \u001b[0mc\u001b[0m\u001b[1;33m.\u001b[0m\u001b[0mparseXMLText\u001b[0m\u001b[1;33m(\u001b[0m\u001b[1;33m)\u001b[0m\u001b[1;33m\u001b[0m\u001b[1;33m\u001b[0m\u001b[0m\n\u001b[0;32m    946\u001b[0m         \u001b[1;32melse\u001b[0m\u001b[1;33m:\u001b[0m  \u001b[1;31m# it is a file path or a raw musicxml string\u001b[0m\u001b[1;33m\u001b[0m\u001b[1;33m\u001b[0m\u001b[0m\n\u001b[1;32m--> 947\u001b[1;33m             \u001b[0mc\u001b[0m\u001b[1;33m.\u001b[0m\u001b[0mreadFile\u001b[0m\u001b[1;33m(\u001b[0m\u001b[0mfilePath\u001b[0m\u001b[1;33m)\u001b[0m\u001b[1;33m\u001b[0m\u001b[1;33m\u001b[0m\u001b[0m\n\u001b[0m\u001b[0;32m    948\u001b[0m \u001b[1;33m\u001b[0m\u001b[0m\n\u001b[0;32m    949\u001b[0m         \u001b[1;31m# movement titles can be stored in more than one place in musicxml\u001b[0m\u001b[1;33m\u001b[0m\u001b[1;33m\u001b[0m\u001b[1;33m\u001b[0m\u001b[0m\n",
      "\u001b[1;32mC:\\ProgramData\\Anaconda3\\lib\\site-packages\\music21\\musicxml\\xmlToM21.py\u001b[0m in \u001b[0;36mreadFile\u001b[1;34m(self, filename)\u001b[0m\n\u001b[0;32m    871\u001b[0m         \u001b[0mself\u001b[0m\u001b[1;33m.\u001b[0m\u001b[0mxmlRoot\u001b[0m \u001b[1;33m=\u001b[0m \u001b[0metree\u001b[0m\u001b[1;33m.\u001b[0m\u001b[0mgetroot\u001b[0m\u001b[1;33m(\u001b[0m\u001b[1;33m)\u001b[0m\u001b[1;33m\u001b[0m\u001b[1;33m\u001b[0m\u001b[0m\n\u001b[0;32m    872\u001b[0m         \u001b[1;32mif\u001b[0m \u001b[0mself\u001b[0m\u001b[1;33m.\u001b[0m\u001b[0mxmlRoot\u001b[0m\u001b[1;33m.\u001b[0m\u001b[0mtag\u001b[0m \u001b[1;33m!=\u001b[0m \u001b[1;34m'score-partwise'\u001b[0m\u001b[1;33m:\u001b[0m\u001b[1;33m\u001b[0m\u001b[1;33m\u001b[0m\u001b[0m\n\u001b[1;32m--> 873\u001b[1;33m             raise MusicXMLImportException('Cannot parse MusicXML files not in score-partwise. '\n\u001b[0m\u001b[0;32m    874\u001b[0m                                           + f\"Root tag was '{self.xmlRoot.tag}'\")\n\u001b[0;32m    875\u001b[0m         \u001b[0mself\u001b[0m\u001b[1;33m.\u001b[0m\u001b[0mxmlRootToScore\u001b[0m\u001b[1;33m(\u001b[0m\u001b[0mself\u001b[0m\u001b[1;33m.\u001b[0m\u001b[0mxmlRoot\u001b[0m\u001b[1;33m,\u001b[0m \u001b[0mself\u001b[0m\u001b[1;33m.\u001b[0m\u001b[0mstream\u001b[0m\u001b[1;33m)\u001b[0m\u001b[1;33m\u001b[0m\u001b[1;33m\u001b[0m\u001b[0m\n",
      "\u001b[1;31mMusicXMLImportException\u001b[0m: Cannot parse MusicXML files not in score-partwise. Root tag was 'feature_vector_file'"
     ]
    }
   ],
   "source": [
    "p = converter.parse(filePath)"
   ]
  },
  {
   "cell_type": "markdown",
   "metadata": {},
   "source": [
    "Although music21 offers support for MEI files, it was originally developed to work with musicXML files. Therefore, music21 can struggle to parse more complicated MEI files.\n",
    "\n",
    "If you are successful in executing the above code, you should see something like the following:\n",
    "\n",
    "    <music21.stream.Score 0x24e272dda90>\n",
    "    \n",
    "This means that music21 has stored your score in something called a stream, and that stream has a unique identifier (0x24e272dda90 in my case). A stream is simply a data structure, and in music21 it is spaced in time. So, each object has an offset that represents how many quarter notes it lies from the beginning. A stream can (and often does) contain other streams for scores, parts, and measures. If you want to see the structures and values in your stream, you will have to run a looping command in Python. This means that you run a command (or series of commands) over and over as long as a particular condition is met. For a loop in Python, you start with 'for' and then place a colon (:) after you have written the condition statement. The looped code is then placed on the next line and indented. To see your stream, use the following code:\n",
    "\n",
    "    for el in p.recurse():\n",
    "        print(el.offset, el, el.activeSite)"
   ]
  },
  {
   "cell_type": "code",
   "execution_count": null,
   "metadata": {},
   "outputs": [],
   "source": []
  },
  {
   "cell_type": "markdown",
   "metadata": {},
   "source": [
    "## Analyzing your score\n",
    "Now that your score is loaded in Python, you can start to analyze it. The following will introduce some of the basic ways that music21 can analyze a score. If you would like to learn more, have a look at the User Manual available online at: http://web.mit.edu/music21/doc/usersGuide/index.html.\n",
    "\n",
    "### Transform your score to chords\n",
    "Sometimes it can be helpful to view the chordal structures within your score. To distill your score into a chord form, use the following code, being sure to differentiate the single quotes and double quotes:\n",
    "\n",
    "    pChords = p.chordify()\n",
    "    pChords.write('musicxml', fp=\"chords.xml\")"
   ]
  },
  {
   "cell_type": "code",
   "execution_count": null,
   "metadata": {},
   "outputs": [],
   "source": []
  },
  {
   "cell_type": "markdown",
   "metadata": {},
   "source": [
    "You will notice in this series of commands that we first set a new variable, pChords. The value of that variable was p (which, you will recall is the stream that contains your score). You will note, however, that \".chordify()\" follows that p variable. This is the command that will distill your score into chords. \n",
    "\n",
    "The second command simply writes the result of your chordify command to a musicXML file that will be called \"chords.xml\".\n",
    "\n",
    "You will note that the chords are quite complex, but you can have music21 simplify them into closed position. To do this, run the following loop:\n",
    "\n",
    "    for c in pChords.recurse().getElementsByClass('Chord'):\n",
    "        c.closedPosition(forceOctave=4, inPlace=True)\n",
    "    pChords.write('musicxml', fp=\"chords.xml\")\n",
    "\n",
    "In order to run the second command (the loop is the first), you will need to make sure that you are no longer indented. Usually this is accomplished by pressing the Enter key and then hitting the backspace."
   ]
  },
  {
   "cell_type": "code",
   "execution_count": null,
   "metadata": {},
   "outputs": [],
   "source": [
    " "
   ]
  },
  {
   "cell_type": "markdown",
   "metadata": {},
   "source": [
    "### Perform harmonic analysis\n",
    "music21 can now analyze your chords. To do this, type the following:\n",
    "\n",
    "    pAnalysis = pChords\n",
    "    for c in pAnalysis.recurse().getElementsByClass('Chord'):\n",
    "        rn = roman.romanNumeralFromChord(c, key.Key('F'))\n",
    "        c.addLyric(str(rn.figure))\n",
    "    \n",
    "    pAnalysis.write('musicxml', fp=\"ChordAnalysis.xml\")\n"
   ]
  },
  {
   "cell_type": "code",
   "execution_count": null,
   "metadata": {},
   "outputs": [],
   "source": []
  },
  {
   "cell_type": "markdown",
   "metadata": {},
   "source": [
    "### Get the ambitus\n",
    "music21 can extract the range of a particular voice or instrument. To do this, you will need to figure out which part you would like to analyze. If you are struggling to determine that, you can review the stream structure we displayed above. If you do know the part, use the following, substituting the 0 with the proper part number:\n",
    "\n",
    "    print(p.parts[0].analyze('ambitus'))"
   ]
  },
  {
   "cell_type": "code",
   "execution_count": null,
   "metadata": {},
   "outputs": [],
   "source": []
  },
  {
   "cell_type": "markdown",
   "metadata": {},
   "source": [
    "### Piano roll of pitches\n",
    "music21 can generate a piano roll of your pitches. Again, it can help if you know the part that you wish to plot. This code will also ask you for which measures you wish to plot:\n",
    "\n",
    "    voice = p.parts[0]\n",
    "    voice.measures(1, 10).plot()\n",
    "\n",
    "Once again, you can change which part you wish to plot by modifying the 0 in the first line. You can select the measures you wish to plot as well. In the second line, the 1 is the first measure to plot, and the 10 is the last measure. So, \"voice.measures(40,75).plot()\" would capture measures 40 through 75.\n",
    "\n",
    "If you would like to use this or any other visualization in your report, all you need to do is save the image it generates. For Windows, right-click on the image and select \"Save Image As\". Mac users click and hold on the image and select the same."
   ]
  },
  {
   "cell_type": "code",
   "execution_count": null,
   "metadata": {},
   "outputs": [],
   "source": []
  },
  {
   "cell_type": "markdown",
   "metadata": {},
   "source": [
    "### Scatter plot of pitches\n",
    "You can also generate a visualization of the pitches that are present in your piece. To do that, run the following code:\n",
    "\n",
    "    p.plot('scatter', 'quarterLength', 'pitch', title='My Scatter Plot')\n",
    " "
   ]
  },
  {
   "cell_type": "code",
   "execution_count": null,
   "metadata": {},
   "outputs": [],
   "source": []
  },
  {
   "cell_type": "markdown",
   "metadata": {},
   "source": [
    "### Pitch histogram\n",
    "You can see which pitches are used most (or least) in your piece by creating a histogram. To do this, run:\n",
    "\n",
    "    p.plot('histogram', 'octave', xHideUnused=False, xAxisLabel='Number of Pitches')"
   ]
  },
  {
   "cell_type": "code",
   "execution_count": null,
   "metadata": {},
   "outputs": [],
   "source": []
  }
 ],
 "metadata": {
  "kernelspec": {
   "display_name": "Python 3",
   "language": "python",
   "name": "python3"
  },
  "language_info": {
   "codemirror_mode": {
    "name": "ipython",
    "version": 3
   },
   "file_extension": ".py",
   "mimetype": "text/x-python",
   "name": "python",
   "nbconvert_exporter": "python",
   "pygments_lexer": "ipython3",
   "version": "3.8.3"
  }
 },
 "nbformat": 4,
 "nbformat_minor": 2
}
